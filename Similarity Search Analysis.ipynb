{
 "cells": [
  {
   "cell_type": "code",
   "execution_count": 2,
   "id": "d67924f5",
   "metadata": {},
   "outputs": [
    {
     "name": "stderr",
     "output_type": "stream",
     "text": [
      "C:\\Users\\reagon.karki\\Anaconda3\\envs\\bycovid_new\\lib\\site-packages\\pybel\\struct\\operations.py:8: TqdmExperimentalWarning: Using `tqdm.autonotebook.tqdm` in notebook mode. Use `tqdm.tqdm` instead to force console mode (e.g. in jupyter console)\n",
      "  from tqdm.autonotebook import tqdm\n"
     ]
    }
   ],
   "source": [
    "from Nmr2Graph_May import *\n",
    "import pandas as pd\n",
    "from tqdm import tqdm\n",
    "from rdkit import Chem\n",
    "from rdkit.Chem import AllChem\n",
    "from rdkit.Chem import Draw\n",
    "from rdkit.Chem import MACCSkeys\n",
    "import pickle\n",
    "from rdkit import DataStructs\n",
    "from rdkit.Chem import Descriptors\n",
    "from rdkit.Chem import PandasTools\n",
    "import copy\n",
    "import json\n",
    "import os\n",
    "#import xlsxwriter\n",
    "from rdkit.Chem.Draw import IPythonConsole\n",
    "from rdkit.Chem.SaltRemover import SaltRemover\n",
    "\n",
    "#MCS \n",
    "\n",
    "from collections import defaultdict\n",
    "from pathlib import Path\n",
    "from copy import deepcopy\n",
    "import random\n",
    "\n",
    "from ipywidgets import interact, fixed, widgets\n",
    "import pandas as pd\n",
    "import matplotlib.pyplot as plt\n",
    "from rdkit import Chem, Geometry\n",
    "from rdkit.Chem import AllChem\n",
    "from rdkit.Chem import Draw\n",
    "from rdkit.Chem import rdFMCS\n",
    "from rdkit.Chem import PandasTools"
   ]
  },
  {
   "cell_type": "code",
   "execution_count": 3,
   "id": "7542ed0b",
   "metadata": {},
   "outputs": [],
   "source": [
    "import pandas as pd\n",
    "from tqdm import tqdm\n",
    "from rdkit import Chem\n",
    "from rdkit.Chem import AllChem\n",
    "from rdkit.Chem import Draw\n",
    "from rdkit.Chem import MACCSkeys\n",
    "import pickle\n",
    "from rdkit import DataStructs\n",
    "from rdkit.Chem import Descriptors\n",
    "from rdkit.Chem import PandasTools\n",
    "import copy\n",
    "import json\n",
    "#import xlsxwriter\n",
    "from rdkit.Chem.Draw import IPythonConsole\n",
    "from rdkit.Chem.SaltRemover import SaltRemover\n",
    "\n",
    "#MCS \n",
    "\n",
    "from collections import defaultdict\n",
    "from pathlib import Path\n",
    "from copy import deepcopy\n",
    "import random\n",
    "\n",
    "from ipywidgets import interact, fixed, widgets\n",
    "import pandas as pd\n",
    "import matplotlib.pyplot as plt\n",
    "from rdkit import Chem, Geometry\n",
    "from rdkit.Chem import AllChem\n",
    "from rdkit.Chem import Draw\n",
    "from rdkit.Chem import rdFMCS\n",
    "from rdkit.Chem import PandasTools"
   ]
  },
  {
   "cell_type": "code",
   "execution_count": 65,
   "id": "c95f588f",
   "metadata": {},
   "outputs": [],
   "source": [
    "frag = pd.read_csv('data/normalized_data/Ligands.csv')\n",
    "pchem = pd.read_excel('data/normalized_data/PubChem_Actives_Literature_NCATS.xlsx')\n",
    "chembl = pd.read_excel('data/normalized_data/chembl_actives_apr23.xlsx',usecols=['Molecule ChEMBL ID','Smiles','pChEMBL Value'])"
   ]
  },
  {
   "cell_type": "code",
   "execution_count": 89,
   "id": "bb6434d8",
   "metadata": {},
   "outputs": [],
   "source": [
    "chembl = chembl.loc[chembl['pChEMBL Value'] >= 6]\n",
    "chembl = chembl.reset_index(drop=True)"
   ]
  },
  {
   "cell_type": "markdown",
   "id": "4e602af0",
   "metadata": {},
   "source": [
    "# Remove salts from Smiles"
   ]
  },
  {
   "cell_type": "code",
   "execution_count": 74,
   "id": "69e6e052",
   "metadata": {},
   "outputs": [],
   "source": [
    "frag = remove_salt(frag,'Column 2')\n",
    "pchem = remove_salt(pchem,'SMILES')\n",
    "chembl = remove_salt(chembl,'Smiles')"
   ]
  },
  {
   "cell_type": "code",
   "execution_count": 75,
   "id": "2d6e520d",
   "metadata": {},
   "outputs": [
    {
     "data": {
      "text/html": [
       "<div>\n",
       "<style scoped>\n",
       "    .dataframe tbody tr th:only-of-type {\n",
       "        vertical-align: middle;\n",
       "    }\n",
       "\n",
       "    .dataframe tbody tr th {\n",
       "        vertical-align: top;\n",
       "    }\n",
       "\n",
       "    .dataframe thead th {\n",
       "        text-align: right;\n",
       "    }\n",
       "</style>\n",
       "<table border=\"1\" class=\"dataframe\">\n",
       "  <thead>\n",
       "    <tr style=\"text-align: right;\">\n",
       "      <th></th>\n",
       "      <th>Molecule ChEMBL ID</th>\n",
       "      <th>Smiles</th>\n",
       "      <th>pChEMBL Value</th>\n",
       "    </tr>\n",
       "  </thead>\n",
       "  <tbody>\n",
       "    <tr>\n",
       "      <th>0</th>\n",
       "      <td>CHEMBL4877804</td>\n",
       "      <td>COc1cc2c3c(c4cc(OC)c(OC)cc4c2cc1OC)CN1CCC[C@H]1C3</td>\n",
       "      <td>7.52</td>\n",
       "    </tr>\n",
       "    <tr>\n",
       "      <th>1</th>\n",
       "      <td>CHEMBL1382627</td>\n",
       "      <td>Nc1ccc(S(=O)(=O)[N-]c2ncccn2)cc1</td>\n",
       "      <td>6.12</td>\n",
       "    </tr>\n",
       "    <tr>\n",
       "      <th>2</th>\n",
       "      <td>CHEMBL4847583</td>\n",
       "      <td>O=C[C@H](C[C@@H]1CCNC1=O)NC(=O)[C@H](CC1CC1)NC...</td>\n",
       "      <td>6.10</td>\n",
       "    </tr>\n",
       "    <tr>\n",
       "      <th>3</th>\n",
       "      <td>CHEMBL4860766</td>\n",
       "      <td>COc1cccc2[nH]c(C(=O)N[C@@H](CC3CC3)C(=O)N[C@@H...</td>\n",
       "      <td>6.54</td>\n",
       "    </tr>\n",
       "    <tr>\n",
       "      <th>4</th>\n",
       "      <td>CHEMBL4866337</td>\n",
       "      <td>COc1cccc2[nH]c(C(=O)N[C@@H](CC3CC3)C(=O)N[C@H]...</td>\n",
       "      <td>6.40</td>\n",
       "    </tr>\n",
       "  </tbody>\n",
       "</table>\n",
       "</div>"
      ],
      "text/plain": [
       "  Molecule ChEMBL ID                                             Smiles  \\\n",
       "0      CHEMBL4877804  COc1cc2c3c(c4cc(OC)c(OC)cc4c2cc1OC)CN1CCC[C@H]1C3   \n",
       "1      CHEMBL1382627                   Nc1ccc(S(=O)(=O)[N-]c2ncccn2)cc1   \n",
       "2      CHEMBL4847583  O=C[C@H](C[C@@H]1CCNC1=O)NC(=O)[C@H](CC1CC1)NC...   \n",
       "3      CHEMBL4860766  COc1cccc2[nH]c(C(=O)N[C@@H](CC3CC3)C(=O)N[C@@H...   \n",
       "4      CHEMBL4866337  COc1cccc2[nH]c(C(=O)N[C@@H](CC3CC3)C(=O)N[C@H]...   \n",
       "\n",
       "   pChEMBL Value  \n",
       "0           7.52  \n",
       "1           6.12  \n",
       "2           6.10  \n",
       "3           6.54  \n",
       "4           6.40  "
      ]
     },
     "execution_count": 75,
     "metadata": {},
     "output_type": "execute_result"
    }
   ],
   "source": [
    "chembl.head(5)"
   ]
  },
  {
   "cell_type": "code",
   "execution_count": 30,
   "id": "3ef4306a",
   "metadata": {
    "scrolled": false
   },
   "outputs": [
    {
     "name": "stdout",
     "output_type": "stream",
     "text": [
      "FragLen:  31\n",
      "RefLen:  211\n"
     ]
    },
    {
     "name": "stderr",
     "output_type": "stream",
     "text": [
      "100%|██████████| 31/31 [00:10<00:00,  3.01it/s]\n"
     ]
    }
   ],
   "source": [
    "pchem_fpa = frag_Tanimoto_FPA(frag,'Column 2',pchem,'SMILES','cid',0.4)"
   ]
  },
  {
   "cell_type": "code",
   "execution_count": 32,
   "id": "c06466d6",
   "metadata": {},
   "outputs": [
    {
     "data": {
      "text/html": [
       "<div>\n",
       "<style scoped>\n",
       "    .dataframe tbody tr th:only-of-type {\n",
       "        vertical-align: middle;\n",
       "    }\n",
       "\n",
       "    .dataframe tbody tr th {\n",
       "        vertical-align: top;\n",
       "    }\n",
       "\n",
       "    .dataframe thead th {\n",
       "        text-align: right;\n",
       "    }\n",
       "</style>\n",
       "<table border=\"1\" class=\"dataframe\">\n",
       "  <thead>\n",
       "    <tr style=\"text-align: right;\">\n",
       "      <th></th>\n",
       "      <th>Frag_id</th>\n",
       "      <th>Frag</th>\n",
       "      <th>Ref SMILES</th>\n",
       "      <th>Ref_id</th>\n",
       "      <th>FPA</th>\n",
       "      <th>MCS</th>\n",
       "    </tr>\n",
       "  </thead>\n",
       "  <tbody>\n",
       "    <tr>\n",
       "      <th>0</th>\n",
       "      <td>604828</td>\n",
       "      <td>FC(F)(F)C1=CC=C(C2=C1)OCC(N2)=O</td>\n",
       "      <td>CC(C)C(=O)NC1=CC(=C(C=C1)[N+](=O)[O-])C(F)(F)F</td>\n",
       "      <td>3397</td>\n",
       "      <td>0.424324</td>\n",
       "      <td>CC(=O)NC1CCCC(C(F)(F)F)C1</td>\n",
       "    </tr>\n",
       "    <tr>\n",
       "      <th>1</th>\n",
       "      <td>217907</td>\n",
       "      <td>FC1=C2C=CC=NC2=C(O)C=C1</td>\n",
       "      <td>C1=CC2=C(C(=C1)O)N=CC=C2</td>\n",
       "      <td>1923</td>\n",
       "      <td>0.651282</td>\n",
       "      <td>OC1CCCC2CCCNC12</td>\n",
       "    </tr>\n",
       "    <tr>\n",
       "      <th>2</th>\n",
       "      <td>217907</td>\n",
       "      <td>FC1=C2C=CC=NC2=C(O)C=C1</td>\n",
       "      <td>C1=CC=C(C=C1)C(=O)OC2=CC=CC3=C2N=CC=C3</td>\n",
       "      <td>6855</td>\n",
       "      <td>0.425000</td>\n",
       "      <td>OC1CCCC2CCCNC12</td>\n",
       "    </tr>\n",
       "    <tr>\n",
       "      <th>3</th>\n",
       "      <td>978238</td>\n",
       "      <td>OCC(C)(C)NC(C1=CC(Cl)=CC=C1)=O</td>\n",
       "      <td>B([C@H](CC(C)C)NC(=O)CNC(=O)C1=C(C=CC(=C1)Cl)C...</td>\n",
       "      <td>25183872</td>\n",
       "      <td>0.427419</td>\n",
       "      <td>CCNC(=O)C1CCCC(Cl)C1</td>\n",
       "    </tr>\n",
       "  </tbody>\n",
       "</table>\n",
       "</div>"
      ],
      "text/plain": [
       "   Frag_id                             Frag  \\\n",
       "0   604828  FC(F)(F)C1=CC=C(C2=C1)OCC(N2)=O   \n",
       "1   217907          FC1=C2C=CC=NC2=C(O)C=C1   \n",
       "2   217907          FC1=C2C=CC=NC2=C(O)C=C1   \n",
       "3   978238   OCC(C)(C)NC(C1=CC(Cl)=CC=C1)=O   \n",
       "\n",
       "                                          Ref SMILES    Ref_id       FPA  \\\n",
       "0     CC(C)C(=O)NC1=CC(=C(C=C1)[N+](=O)[O-])C(F)(F)F      3397  0.424324   \n",
       "1                           C1=CC2=C(C(=C1)O)N=CC=C2      1923  0.651282   \n",
       "2             C1=CC=C(C=C1)C(=O)OC2=CC=CC3=C2N=CC=C3      6855  0.425000   \n",
       "3  B([C@H](CC(C)C)NC(=O)CNC(=O)C1=C(C=CC(=C1)Cl)C...  25183872  0.427419   \n",
       "\n",
       "                         MCS  \n",
       "0  CC(=O)NC1CCCC(C(F)(F)F)C1  \n",
       "1            OC1CCCC2CCCNC12  \n",
       "2            OC1CCCC2CCCNC12  \n",
       "3       CCNC(=O)C1CCCC(Cl)C1  "
      ]
     },
     "execution_count": 32,
     "metadata": {},
     "output_type": "execute_result"
    }
   ],
   "source": [
    "pchem_fpa = pd.DataFrame(pchem_fpa)\n",
    "pchem_fpa"
   ]
  },
  {
   "cell_type": "code",
   "execution_count": 76,
   "id": "613a8db6",
   "metadata": {},
   "outputs": [
    {
     "data": {
      "text/html": [
       "<div>\n",
       "<style scoped>\n",
       "    .dataframe tbody tr th:only-of-type {\n",
       "        vertical-align: middle;\n",
       "    }\n",
       "\n",
       "    .dataframe tbody tr th {\n",
       "        vertical-align: top;\n",
       "    }\n",
       "\n",
       "    .dataframe thead th {\n",
       "        text-align: right;\n",
       "    }\n",
       "</style>\n",
       "<table border=\"1\" class=\"dataframe\">\n",
       "  <thead>\n",
       "    <tr style=\"text-align: right;\">\n",
       "      <th></th>\n",
       "      <th>Molecule ChEMBL ID</th>\n",
       "      <th>Smiles</th>\n",
       "      <th>pChEMBL Value</th>\n",
       "    </tr>\n",
       "  </thead>\n",
       "  <tbody>\n",
       "    <tr>\n",
       "      <th>0</th>\n",
       "      <td>CHEMBL4877804</td>\n",
       "      <td>COc1cc2c3c(c4cc(OC)c(OC)cc4c2cc1OC)CN1CCC[C@H]1C3</td>\n",
       "      <td>7.52</td>\n",
       "    </tr>\n",
       "    <tr>\n",
       "      <th>1</th>\n",
       "      <td>CHEMBL1382627</td>\n",
       "      <td>Nc1ccc(S(=O)(=O)[N-]c2ncccn2)cc1</td>\n",
       "      <td>6.12</td>\n",
       "    </tr>\n",
       "    <tr>\n",
       "      <th>2</th>\n",
       "      <td>CHEMBL4847583</td>\n",
       "      <td>O=C[C@H](C[C@@H]1CCNC1=O)NC(=O)[C@H](CC1CC1)NC...</td>\n",
       "      <td>6.10</td>\n",
       "    </tr>\n",
       "    <tr>\n",
       "      <th>3</th>\n",
       "      <td>CHEMBL4860766</td>\n",
       "      <td>COc1cccc2[nH]c(C(=O)N[C@@H](CC3CC3)C(=O)N[C@@H...</td>\n",
       "      <td>6.54</td>\n",
       "    </tr>\n",
       "    <tr>\n",
       "      <th>4</th>\n",
       "      <td>CHEMBL4866337</td>\n",
       "      <td>COc1cccc2[nH]c(C(=O)N[C@@H](CC3CC3)C(=O)N[C@H]...</td>\n",
       "      <td>6.40</td>\n",
       "    </tr>\n",
       "    <tr>\n",
       "      <th>...</th>\n",
       "      <td>...</td>\n",
       "      <td>...</td>\n",
       "      <td>...</td>\n",
       "    </tr>\n",
       "    <tr>\n",
       "      <th>432</th>\n",
       "      <td>CHEMBL5077894</td>\n",
       "      <td>CC1(C)[C@@H]2[C@@H](C(=O)N[C@H](C#N)C[C@@H]3CC...</td>\n",
       "      <td>7.68</td>\n",
       "    </tr>\n",
       "    <tr>\n",
       "      <th>433</th>\n",
       "      <td>CHEMBL5073830</td>\n",
       "      <td>Cc1ccc(NC2CCNCC2)cc1C(=O)N[C@H](C)c1cccc2ccccc12</td>\n",
       "      <td>6.22</td>\n",
       "    </tr>\n",
       "    <tr>\n",
       "      <th>434</th>\n",
       "      <td>CHEMBL5075197</td>\n",
       "      <td>CC(C)C[C@H](NC(=O)OCc1ccc(F)cc1)C(=O)N[C@H](C=...</td>\n",
       "      <td>6.41</td>\n",
       "    </tr>\n",
       "    <tr>\n",
       "      <th>435</th>\n",
       "      <td>CHEMBL4065616</td>\n",
       "      <td>CCC(CC)COC(=O)[C@H](C)N[P@](=O)(OC[C@H]1O[C@@]...</td>\n",
       "      <td>6.11</td>\n",
       "    </tr>\n",
       "    <tr>\n",
       "      <th>436</th>\n",
       "      <td>CHEMBL4065616</td>\n",
       "      <td>CCC(CC)COC(=O)[C@H](C)N[P@](=O)(OC[C@H]1O[C@@]...</td>\n",
       "      <td>6.55</td>\n",
       "    </tr>\n",
       "  </tbody>\n",
       "</table>\n",
       "<p>437 rows × 3 columns</p>\n",
       "</div>"
      ],
      "text/plain": [
       "    Molecule ChEMBL ID                                             Smiles  \\\n",
       "0        CHEMBL4877804  COc1cc2c3c(c4cc(OC)c(OC)cc4c2cc1OC)CN1CCC[C@H]1C3   \n",
       "1        CHEMBL1382627                   Nc1ccc(S(=O)(=O)[N-]c2ncccn2)cc1   \n",
       "2        CHEMBL4847583  O=C[C@H](C[C@@H]1CCNC1=O)NC(=O)[C@H](CC1CC1)NC...   \n",
       "3        CHEMBL4860766  COc1cccc2[nH]c(C(=O)N[C@@H](CC3CC3)C(=O)N[C@@H...   \n",
       "4        CHEMBL4866337  COc1cccc2[nH]c(C(=O)N[C@@H](CC3CC3)C(=O)N[C@H]...   \n",
       "..                 ...                                                ...   \n",
       "432      CHEMBL5077894  CC1(C)[C@@H]2[C@@H](C(=O)N[C@H](C#N)C[C@@H]3CC...   \n",
       "433      CHEMBL5073830   Cc1ccc(NC2CCNCC2)cc1C(=O)N[C@H](C)c1cccc2ccccc12   \n",
       "434      CHEMBL5075197  CC(C)C[C@H](NC(=O)OCc1ccc(F)cc1)C(=O)N[C@H](C=...   \n",
       "435      CHEMBL4065616  CCC(CC)COC(=O)[C@H](C)N[P@](=O)(OC[C@H]1O[C@@]...   \n",
       "436      CHEMBL4065616  CCC(CC)COC(=O)[C@H](C)N[P@](=O)(OC[C@H]1O[C@@]...   \n",
       "\n",
       "     pChEMBL Value  \n",
       "0             7.52  \n",
       "1             6.12  \n",
       "2             6.10  \n",
       "3             6.54  \n",
       "4             6.40  \n",
       "..             ...  \n",
       "432           7.68  \n",
       "433           6.22  \n",
       "434           6.41  \n",
       "435           6.11  \n",
       "436           6.55  \n",
       "\n",
       "[437 rows x 3 columns]"
      ]
     },
     "execution_count": 76,
     "metadata": {},
     "output_type": "execute_result"
    }
   ],
   "source": [
    "chembl"
   ]
  },
  {
   "cell_type": "code",
   "execution_count": 85,
   "id": "5418866a",
   "metadata": {},
   "outputs": [
    {
     "name": "stdout",
     "output_type": "stream",
     "text": [
      "FragLen:  31\n",
      "RefLen:  306\n"
     ]
    },
    {
     "name": "stderr",
     "output_type": "stream",
     "text": [
      "100%|██████████| 31/31 [00:12<00:00,  2.48it/s]\n"
     ]
    }
   ],
   "source": [
    "chembl_fpa = frag_Tanimoto_FPA(frag,'Column 2',chembl,'Smiles','Molecule ChEMBL ID',0.4) "
   ]
  },
  {
   "cell_type": "code",
   "execution_count": 95,
   "id": "9a077bd1",
   "metadata": {},
   "outputs": [
    {
     "data": {
      "text/html": [
       "<div>\n",
       "<style scoped>\n",
       "    .dataframe tbody tr th:only-of-type {\n",
       "        vertical-align: middle;\n",
       "    }\n",
       "\n",
       "    .dataframe tbody tr th {\n",
       "        vertical-align: top;\n",
       "    }\n",
       "\n",
       "    .dataframe thead th {\n",
       "        text-align: right;\n",
       "    }\n",
       "</style>\n",
       "<table border=\"1\" class=\"dataframe\">\n",
       "  <thead>\n",
       "    <tr style=\"text-align: right;\">\n",
       "      <th></th>\n",
       "      <th>Frag_id</th>\n",
       "      <th>Frag</th>\n",
       "      <th>Ref SMILES</th>\n",
       "      <th>Ref_id</th>\n",
       "      <th>FPA</th>\n",
       "      <th>MCS</th>\n",
       "    </tr>\n",
       "  </thead>\n",
       "  <tbody>\n",
       "    <tr>\n",
       "      <th>0</th>\n",
       "      <td>604828</td>\n",
       "      <td>FC(F)(F)C1=CC=C(C2=C1)OCC(N2)=O</td>\n",
       "      <td>O=C(Oc1cncc(Cl)c1)c1cccc2c1OCCN2</td>\n",
       "      <td>CHEMBL4860159</td>\n",
       "      <td>0.406989</td>\n",
       "      <td>CC1CCCC(NCCO)C1</td>\n",
       "    </tr>\n",
       "  </tbody>\n",
       "</table>\n",
       "</div>"
      ],
      "text/plain": [
       "   Frag_id                             Frag                        Ref SMILES  \\\n",
       "0   604828  FC(F)(F)C1=CC=C(C2=C1)OCC(N2)=O  O=C(Oc1cncc(Cl)c1)c1cccc2c1OCCN2   \n",
       "\n",
       "          Ref_id       FPA              MCS  \n",
       "0  CHEMBL4860159  0.406989  CC1CCCC(NCCO)C1  "
      ]
     },
     "execution_count": 95,
     "metadata": {},
     "output_type": "execute_result"
    }
   ],
   "source": [
    "chembl_fpa = pd.DataFrame(chembl_fpa)\n",
    "chembl_fpa"
   ]
  },
  {
   "cell_type": "code",
   "execution_count": 96,
   "id": "eba70b2e",
   "metadata": {},
   "outputs": [],
   "source": [
    "pchem_fpa.to_excel('data/normalized_data/results/pchem_fpa_apr23.xlsx')\n",
    "chembl_fpa.to_excel('data/normalized_data/results/chembl_fpa_apr23.xlsx')"
   ]
  },
  {
   "cell_type": "code",
   "execution_count": 37,
   "id": "13b9db6a",
   "metadata": {},
   "outputs": [],
   "source": [
    "chembl_list = []\n",
    "for item in frag['CHEMBL ID']:\n",
    "    if 'CHEMBL' in str(item):\n",
    "        chembl_list.append(item)"
   ]
  },
  {
   "cell_type": "code",
   "execution_count": 38,
   "id": "d0d6e574",
   "metadata": {},
   "outputs": [
    {
     "data": {
      "text/plain": [
       "['CHEMBL1576416',\n",
       " 'CHEMBL1412642',\n",
       " 'CHEMBL1507542',\n",
       " 'CHEMBL1823290',\n",
       " 'CHEMBL274733',\n",
       " 'CHEMBL1409566',\n",
       " 'CHEMBL1910341',\n",
       " 'CHEMBL4063315',\n",
       " 'CHEMBL1300410']"
      ]
     },
     "execution_count": 38,
     "metadata": {},
     "output_type": "execute_result"
    }
   ],
   "source": [
    "chembl_list"
   ]
  },
  {
   "cell_type": "code",
   "execution_count": 97,
   "id": "dc21a2f5",
   "metadata": {},
   "outputs": [],
   "source": [
    "chem = 'CHEMBL4860159'"
   ]
  },
  {
   "cell_type": "code",
   "execution_count": null,
   "id": "7ed95112",
   "metadata": {},
   "outputs": [],
   "source": []
  }
 ],
 "metadata": {
  "kernelspec": {
   "display_name": "Python 3 (ipykernel)",
   "language": "python",
   "name": "python3"
  },
  "language_info": {
   "codemirror_mode": {
    "name": "ipython",
    "version": 3
   },
   "file_extension": ".py",
   "mimetype": "text/x-python",
   "name": "python",
   "nbconvert_exporter": "python",
   "pygments_lexer": "ipython3",
   "version": "3.10.4"
  }
 },
 "nbformat": 4,
 "nbformat_minor": 5
}
